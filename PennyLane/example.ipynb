{
 "cells": [
  {
   "cell_type": "code",
   "execution_count": 1,
   "metadata": {},
   "outputs": [],
   "source": [
    "import pennylane as qml\n",
    "from pennylane import numpy as np"
   ]
  },
  {
   "cell_type": "code",
   "execution_count": 2,
   "metadata": {},
   "outputs": [],
   "source": [
    "observables = [\n",
    "    qml.PauliX(0) @ qml.PauliY(1),\n",
    "    qml.PauliX(0) @ qml.PauliZ(2)\n",
    "]"
   ]
  },
  {
   "cell_type": "markdown",
   "metadata": {},
   "source": [
    "### Conventional Measurements"
   ]
  },
  {
   "cell_type": "code",
   "execution_count": 3,
   "metadata": {},
   "outputs": [
    {
     "name": "stdout",
     "output_type": "stream",
     "text": [
      "Expectation value of XYI = 0.005259062416898108\n",
      "Expectation value of XIZ = 0.1678258917705896\n"
     ]
    }
   ],
   "source": [
    "dev = qml.device(\"default.qubit\", wires=3)\n",
    "\n",
    "@qml.qnode(dev, interface='autograd')\n",
    "def circuit1(weights):\n",
    "    qml.StronglyEntanglingLayers(weights, wires=range(3))\n",
    "    return qml.expval(observables[0])\n",
    "\n",
    "@qml.qnode(dev, interface='autograd')\n",
    "def circuit2(weights):\n",
    "    qml.StronglyEntanglingLayers(weights, wires=range(3))\n",
    "    return qml.expval(observables[1])\n",
    "\n",
    "param_shape = qml.templates.StronglyEntanglingLayers.shape(n_layers=3, n_wires=3)\n",
    "rng = np.random.default_rng(192933)\n",
    "weights = rng.normal(scale=0.1, size=param_shape)\n",
    "\n",
    "print(\"Expectation value of XYI =\", circuit1(weights))\n",
    "print(\"Expectation value of XIZ =\", circuit2(weights))"
   ]
  },
  {
   "cell_type": "markdown",
   "metadata": {},
   "source": [
    "### QWC Single Measurement"
   ]
  },
  {
   "cell_type": "code",
   "execution_count": 8,
   "metadata": {},
   "outputs": [
    {
     "name": "stdout",
     "output_type": "stream",
     "text": [
      "0: ─╭StronglyEntanglingLayers(M0)──RY(-1.57)─┤ ╭Probs\n",
      "1: ─├StronglyEntanglingLayers(M0)──RY(1.57)──┤ ├Probs\n",
      "2: ─╰StronglyEntanglingLayers(M0)────────────┤ ╰Probs\n",
      "\n",
      "M0 = \n",
      "[[[ 0.05703565 -0.07449128 -0.16901955]\n",
      "  [-0.12016696 -0.06550746 -0.01767452]\n",
      "  [ 0.13384846  0.15537058 -0.1850643 ]]\n",
      "\n",
      " [[ 0.03739748 -0.11679195 -0.00849701]\n",
      "  [ 0.08411111  0.17348948 -0.08573166]\n",
      "  [-0.08463818  0.06356534  0.20450006]]\n",
      "\n",
      " [[-0.11389128  0.11884404  0.04941816]\n",
      "  [-0.01232847 -0.03289872  0.06589769]\n",
      "  [-0.01083437  0.00766881  0.09565878]]]\n",
      "[0.28060674 0.00556428 0.28519516 0.00038902 0.17013419 0.01409715\n",
      " 0.23999957 0.00401389]\n"
     ]
    }
   ],
   "source": [
    "@qml.qnode(dev, interface='autograd')\n",
    "def circuit_qwc(weights):\n",
    "    qml.StronglyEntanglingLayers(weights, wires=range(3))\n",
    "\n",
    "    # Rotate wire 0\n",
    "    qml.RY(-np.pi/2, wires=0)\n",
    "\n",
    "    # Rotate wire 1\n",
    "    qml.RY(np.pi/2, 1)\n",
    "\n",
    "    return qml.probs(wires=range(3))\n",
    "\n",
    "rotated_probs = circuit_qwc(weights)\n",
    "print(qml.draw(circuit_qwc)(weights))\n",
    "\n",
    "print(rotated_probs)"
   ]
  },
  {
   "cell_type": "code",
   "execution_count": 7,
   "metadata": {},
   "outputs": [
    {
     "name": "stdout",
     "output_type": "stream",
     "text": [
      "[ 1  1 -1 -1 -1 -1  1  1]\n",
      "[ 1 -1  1 -1 -1  1 -1  1]\n",
      "Expectation value of XYI =  0.060368966729053244\n",
      "Expectation value of XIZ =  0.1678258917705898\n"
     ]
    }
   ],
   "source": [
    "# Single-qubit Pauli: [1,-1] , identity: [1,1]\n",
    "eigenvalues_XYI = np.kron(np.kron([1, -1], [1, -1]), [1, 1])\n",
    "eigenvalues_XIZ = np.kron(np.kron([1, -1], [1, 1]), [1, -1])\n",
    "\n",
    "print(eigenvalues_XYI)\n",
    "print(eigenvalues_XIZ)\n",
    "\n",
    "# Taking the linear combination of the eigenvalues and the probabilities\n",
    "print(\"Expectation value of XYI = \", np.dot(eigenvalues_XYI, rotated_probs))\n",
    "print(\"Expectation value of XIZ = \", np.dot(eigenvalues_XIZ, rotated_probs))"
   ]
  },
  {
   "cell_type": "code",
   "execution_count": 14,
   "metadata": {},
   "outputs": [
    {
     "name": "stdout",
     "output_type": "stream",
     "text": [
      "[ 1 -1  1 -1]\n",
      "[ 1  1 -1 -1]\n",
      "[ 1 -1 -1  1]\n",
      "[ 1 -1 -1  1]\n",
      "[ 1 -1 -1  1]\n"
     ]
    }
   ],
   "source": [
    "ev_IZ = np.kron([1,1], [1,-1])\n",
    "ev_ZI = np.kron([1,-1], [1,1])\n",
    "ev_ZZ = np.kron([1,-1], [1,-1])\n",
    "ev_YY = np.kron([1,-1], [1,-1])\n",
    "ev_XX = np.kron([1,-1], [1,-1])\n",
    "\n",
    "print(ev_IZ)\n",
    "print(ev_ZI)\n",
    "print(ev_ZZ)\n",
    "print(ev_YY)\n",
    "print(ev_XX)"
   ]
  }
 ],
 "metadata": {
  "kernelspec": {
   "display_name": "quantum-dev",
   "language": "python",
   "name": "python3"
  },
  "language_info": {
   "codemirror_mode": {
    "name": "ipython",
    "version": 3
   },
   "file_extension": ".py",
   "mimetype": "text/x-python",
   "name": "python",
   "nbconvert_exporter": "python",
   "pygments_lexer": "ipython3",
   "version": "3.11.8"
  }
 },
 "nbformat": 4,
 "nbformat_minor": 2
}
