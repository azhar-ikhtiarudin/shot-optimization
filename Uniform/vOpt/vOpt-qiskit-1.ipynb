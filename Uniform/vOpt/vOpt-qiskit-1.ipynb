{
 "cells": [
  {
   "cell_type": "code",
   "execution_count": 1,
   "metadata": {},
   "outputs": [],
   "source": [
    "# General imports\n",
    "import numpy as np\n",
    "\n",
    "# Pre-defined ansatz circuit and operator class for Hamiltonian\n",
    "from qiskit.circuit.library import EfficientSU2\n",
    "from qiskit.quantum_info import SparsePauliOp\n",
    "\n",
    "# SciPy minimizer routine\n",
    "from scipy.optimize import minimize\n",
    "\n",
    "# Plotting functions\n",
    "import matplotlib.pyplot as plt"
   ]
  },
  {
   "cell_type": "code",
   "execution_count": 2,
   "metadata": {},
   "outputs": [],
   "source": [
    "# runtime imports\n",
    "# from qiskit_ibm_runtime import QiskitRuntimeService, Session\n",
    "# # To run on hardware, select the backend with the fewest number of jobs in the queue\n",
    "# service = QiskitRuntimeService(channel=\"ibm_quantum\")\n",
    "# backend = service.least_busy(operational=True, simulator=False)"
   ]
  },
  {
   "cell_type": "code",
   "execution_count": 3,
   "metadata": {},
   "outputs": [],
   "source": [
    "from qiskit_ibm_runtime import QiskitRuntimeService, Session\n",
    "from qiskit_ibm_runtime import EstimatorV2 as Estimator\n",
    "from qiskit_aer import QasmSimulator, AerSimulator\n",
    "\n",
    "backend = QasmSimulator()"
   ]
  },
  {
   "cell_type": "code",
   "execution_count": 4,
   "metadata": {},
   "outputs": [],
   "source": [
    "hamiltonian = SparsePauliOp.from_list(\n",
    "    [(\"YZ\", 0.3980), (\"ZI\", -0.3980), (\"ZZ\", -0.0113), (\"XX\", 0.1810)]\n",
    ")"
   ]
  },
  {
   "cell_type": "code",
   "execution_count": 5,
   "metadata": {},
   "outputs": [],
   "source": [
    "ansatz = EfficientSU2(hamiltonian.num_qubits)"
   ]
  },
  {
   "cell_type": "code",
   "execution_count": 6,
   "metadata": {},
   "outputs": [],
   "source": [
    "num_params = ansatz.num_parameters\n",
    "\n",
    "from qiskit.transpiler.preset_passmanagers import generate_preset_pass_manager\n",
    "\n",
    "target = backend.target\n",
    "pm = generate_preset_pass_manager(target=target, optimization_level=3)\n",
    "\n",
    "ansatz_isa = pm.run(ansatz)\n",
    "\n",
    "hamiltonian_isa = hamiltonian.apply_layout(layout=ansatz_isa.layout)"
   ]
  },
  {
   "cell_type": "code",
   "execution_count": 7,
   "metadata": {},
   "outputs": [],
   "source": [
    "def cost_func(params, ansatz, hamiltonian, estimator):\n",
    "    \"\"\"Return estimate of energy from estimator\n",
    "\n",
    "    Parameters:\n",
    "        params (ndarray): Array of ansatz parameters\n",
    "        ansatz (QuantumCircuit): Parameterized ansatz circuit\n",
    "        hamiltonian (SparsePauliOp): Operator representation of Hamiltonian\n",
    "        estimator (EstimatorV2): Estimator primitive instance\n",
    "        cost_history_dict: Dictionary for storing intermediate results\n",
    "\n",
    "    Returns:\n",
    "        float: Energy estimate\n",
    "    \"\"\"\n",
    "    pub = (ansatz, [hamiltonian], [params])\n",
    "    result = estimator.run(pubs=[pub]).result()\n",
    "    energy = result[0].data.evs[0]\n",
    "\n",
    "    cost_history_dict[\"iters\"] += 1\n",
    "    cost_history_dict[\"prev_vector\"] = params\n",
    "    cost_history_dict[\"cost_history\"].append(energy)\n",
    "    print(f\"Iters. done: {cost_history_dict['iters']} [Current cost: {energy}]\")\n",
    "\n",
    "    return energy"
   ]
  },
  {
   "cell_type": "code",
   "execution_count": 8,
   "metadata": {},
   "outputs": [],
   "source": [
    "cost_history_dict = {\n",
    "    \"prev_vector\": None,\n",
    "    \"iters\": 0,\n",
    "    \"cost_history\": [],\n",
    "}"
   ]
  },
  {
   "cell_type": "code",
   "execution_count": 9,
   "metadata": {},
   "outputs": [],
   "source": [
    "x0 = 2 * np.pi * np.random.random(num_params)"
   ]
  },
  {
   "cell_type": "code",
   "execution_count": 10,
   "metadata": {},
   "outputs": [
    {
     "name": "stderr",
     "output_type": "stream",
     "text": [
      "/home/azhar04/.local/lib/python3.10/site-packages/qiskit_ibm_runtime/session.py:157: UserWarning: Session is not supported in local testing mode or when using a simulator.\n",
      "  warnings.warn(\n",
      "/home/azhar04/.local/lib/python3.10/site-packages/qiskit_ibm_runtime/fake_provider/local_service.py:243: UserWarning: Options {'default_shots': 10000} have no effect in local testing mode.\n",
      "  warnings.warn(f\"Options {options_copy} have no effect in local testing mode.\")\n"
     ]
    },
    {
     "name": "stdout",
     "output_type": "stream",
     "text": [
      "Iters. done: 1 [Current cost: 0.10339238281249999]\n",
      "Iters. done: 2 [Current cost: 0.22446035156250005]\n",
      "Iters. done: 3 [Current cost: 0.207723388671875]\n",
      "Iters. done: 4 [Current cost: 0.2514984375]\n",
      "Iters. done: 5 [Current cost: 0.15408315429687497]\n",
      "Iters. done: 6 [Current cost: 0.11226445312500002]\n",
      "Iters. done: 7 [Current cost: 0.134584912109375]\n",
      "Iters. done: 8 [Current cost: 0.2459890625]\n",
      "Iters. done: 9 [Current cost: 0.424572607421875]\n",
      "Iters. done: 10 [Current cost: 0.172591162109375]\n",
      "Iters. done: 11 [Current cost: 0.198632080078125]\n",
      "Iters. done: 12 [Current cost: 0.11458754882812502]\n",
      "Iters. done: 13 [Current cost: 0.17355566406249998]\n",
      "Iters. done: 14 [Current cost: -0.20894501953125003]\n",
      "Iters. done: 15 [Current cost: -0.287654931640625]\n",
      "Iters. done: 16 [Current cost: -0.258191455078125]\n",
      "Iters. done: 17 [Current cost: -0.20449902343749998]\n",
      "Iters. done: 18 [Current cost: -0.33672905273437503]\n",
      "Iters. done: 19 [Current cost: -0.421143505859375]\n",
      "Iters. done: 20 [Current cost: -0.5101634765624999]\n",
      "Iters. done: 21 [Current cost: -0.512885107421875]\n",
      "Iters. done: 22 [Current cost: -0.45319892578125]\n",
      "Iters. done: 23 [Current cost: -0.465291357421875]\n",
      "Iters. done: 24 [Current cost: -0.525604150390625]\n",
      "Iters. done: 25 [Current cost: -0.5833478515625]\n",
      "Iters. done: 26 [Current cost: -0.541587548828125]\n",
      "Iters. done: 27 [Current cost: -0.5683490234374999]\n",
      "Iters. done: 28 [Current cost: -0.636856787109375]\n",
      "Iters. done: 29 [Current cost: -0.5995853515625]\n",
      "Iters. done: 30 [Current cost: -0.6820493652343751]\n",
      "Iters. done: 31 [Current cost: -0.6874271484375001]\n",
      "Iters. done: 32 [Current cost: -0.6788117675781251]\n",
      "Iters. done: 33 [Current cost: -0.6192794921875001]\n",
      "Iters. done: 34 [Current cost: -0.691229345703125]\n",
      "Iters. done: 35 [Current cost: -0.66538896484375]\n",
      "Iters. done: 36 [Current cost: -0.6713333496093751]\n",
      "Iters. done: 37 [Current cost: -0.645623974609375]\n",
      "Iters. done: 38 [Current cost: -0.6991478515624999]\n",
      "Iters. done: 39 [Current cost: -0.65045419921875]\n",
      "Iters. done: 40 [Current cost: -0.6770439453124999]\n",
      "Iters. done: 41 [Current cost: -0.6511838867187499]\n",
      "Iters. done: 42 [Current cost: -0.6866209960937499]\n",
      "Iters. done: 43 [Current cost: -0.615689501953125]\n",
      "Iters. done: 44 [Current cost: -0.685640869140625]\n",
      "Iters. done: 45 [Current cost: -0.590576708984375]\n",
      "Iters. done: 46 [Current cost: -0.6712638671875001]\n",
      "Iters. done: 47 [Current cost: -0.6740110839843749]\n",
      "Iters. done: 48 [Current cost: -0.6859014160156249]\n",
      "Iters. done: 49 [Current cost: -0.68302490234375]\n",
      "Iters. done: 50 [Current cost: -0.6893461914062501]\n",
      "Iters. done: 51 [Current cost: -0.674732861328125]\n",
      "Iters. done: 52 [Current cost: -0.6937018554687501]\n",
      "Iters. done: 53 [Current cost: -0.682987353515625]\n",
      "Iters. done: 54 [Current cost: -0.68144130859375]\n",
      "Iters. done: 55 [Current cost: -0.697067431640625]\n",
      "Iters. done: 56 [Current cost: -0.6720299316406251]\n",
      "Iters. done: 57 [Current cost: -0.689161962890625]\n",
      "Iters. done: 58 [Current cost: -0.69130771484375]\n",
      "Iters. done: 59 [Current cost: -0.6866864257812499]\n",
      "Iters. done: 60 [Current cost: -0.6860384765625]\n",
      "Iters. done: 61 [Current cost: -0.678660302734375]\n",
      "Iters. done: 62 [Current cost: -0.6828089843749999]\n",
      "Iters. done: 63 [Current cost: -0.6925948242187501]\n",
      "Iters. done: 64 [Current cost: -0.693485791015625]\n",
      "Iters. done: 65 [Current cost: -0.6851181640625]\n",
      "Iters. done: 66 [Current cost: -0.68960732421875]\n",
      "Iters. done: 67 [Current cost: -0.685665576171875]\n",
      "Iters. done: 68 [Current cost: -0.6868738769531251]\n",
      "Iters. done: 69 [Current cost: -0.690229736328125]\n",
      "Iters. done: 70 [Current cost: -0.6887297851562499]\n",
      "Iters. done: 71 [Current cost: -0.70257470703125]\n",
      "Iters. done: 72 [Current cost: -0.6988321777343751]\n",
      "Iters. done: 73 [Current cost: -0.7023793457031251]\n",
      "Iters. done: 74 [Current cost: -0.69692392578125]\n",
      "Iters. done: 75 [Current cost: -0.68645341796875]\n",
      "Iters. done: 76 [Current cost: -0.697718212890625]\n",
      "Iters. done: 77 [Current cost: -0.6854835937500001]\n",
      "Iters. done: 78 [Current cost: -0.691514111328125]\n",
      "Iters. done: 79 [Current cost: -0.686345751953125]\n",
      "Iters. done: 80 [Current cost: -0.691281201171875]\n",
      "Iters. done: 81 [Current cost: -0.690749560546875]\n",
      "Iters. done: 82 [Current cost: -0.6956643066406251]\n",
      "Iters. done: 83 [Current cost: -0.6931157714843751]\n",
      "Iters. done: 84 [Current cost: -0.6989755859375]\n",
      "Iters. done: 85 [Current cost: -0.683854345703125]\n",
      "Iters. done: 86 [Current cost: -0.6855116699218751]\n",
      "Iters. done: 87 [Current cost: -0.6797201171875]\n",
      "Iters. done: 88 [Current cost: -0.6856779296875001]\n",
      "Iters. done: 89 [Current cost: -0.69092783203125]\n",
      "Iters. done: 90 [Current cost: -0.682962109375]\n",
      "Iters. done: 91 [Current cost: -0.695756640625]\n",
      "Iters. done: 92 [Current cost: -0.68906640625]\n",
      "Iters. done: 93 [Current cost: -0.6877279296875]\n",
      "Iters. done: 94 [Current cost: -0.687737451171875]\n",
      "Iters. done: 95 [Current cost: -0.6947019531249999]\n",
      "Iters. done: 96 [Current cost: -0.6880751464843751]\n",
      "Iters. done: 97 [Current cost: -0.6988919921875001]\n",
      "Iters. done: 98 [Current cost: -0.692358349609375]\n",
      "Iters. done: 99 [Current cost: -0.6955205566406251]\n",
      "Iters. done: 100 [Current cost: -0.6911754394531251]\n",
      "Iters. done: 101 [Current cost: -0.6954219238281251]\n",
      "Iters. done: 102 [Current cost: -0.6842978515625]\n",
      "Iters. done: 103 [Current cost: -0.7062876953125001]\n",
      "Iters. done: 104 [Current cost: -0.694364599609375]\n",
      "Iters. done: 105 [Current cost: -0.6966994628906251]\n",
      "Iters. done: 106 [Current cost: -0.6927079101562501]\n",
      "Iters. done: 107 [Current cost: -0.6902054687500001]\n",
      "Iters. done: 108 [Current cost: -0.685784375]\n",
      "Iters. done: 109 [Current cost: -0.68829208984375]\n",
      "Iters. done: 110 [Current cost: -0.690086474609375]\n",
      "Iters. done: 111 [Current cost: -0.6949261718749999]\n",
      "Iters. done: 112 [Current cost: -0.6956748535156251]\n",
      "Iters. done: 113 [Current cost: -0.6949560546875]\n",
      "Iters. done: 114 [Current cost: -0.69423388671875]\n",
      "Iters. done: 115 [Current cost: -0.6802795410156249]\n",
      "Iters. done: 116 [Current cost: -0.6933140136718751]\n",
      "Iters. done: 117 [Current cost: -0.685911083984375]\n",
      "Iters. done: 118 [Current cost: -0.686515234375]\n",
      "Iters. done: 119 [Current cost: -0.68798896484375]\n",
      "Iters. done: 120 [Current cost: -0.682505419921875]\n",
      "Iters. done: 121 [Current cost: -0.694813134765625]\n",
      "Iters. done: 122 [Current cost: -0.6920636230468751]\n",
      "Iters. done: 123 [Current cost: -0.6847210937500001]\n",
      "Iters. done: 124 [Current cost: -0.6878058105468751]\n",
      "Iters. done: 125 [Current cost: -0.696777392578125]\n",
      "Iters. done: 126 [Current cost: -0.6870223144531251]\n",
      "Iters. done: 127 [Current cost: -0.701807373046875]\n",
      "Iters. done: 128 [Current cost: -0.69953994140625]\n",
      "Iters. done: 129 [Current cost: -0.6923888183593749]\n",
      "Iters. done: 130 [Current cost: -0.6907767578125]\n",
      "Iters. done: 131 [Current cost: -0.6941776855468751]\n",
      "Iters. done: 132 [Current cost: -0.694252587890625]\n",
      "Iters. done: 133 [Current cost: -0.6932750488281251]\n",
      "Iters. done: 134 [Current cost: -0.691438037109375]\n",
      "Iters. done: 135 [Current cost: -0.692628564453125]\n",
      "Iters. done: 136 [Current cost: -0.693697021484375]\n",
      "Iters. done: 137 [Current cost: -0.68250625]\n",
      "Iters. done: 138 [Current cost: -0.6901145019531251]\n",
      "Iters. done: 139 [Current cost: -0.696604443359375]\n",
      "Iters. done: 140 [Current cost: -0.689156982421875]\n",
      "Iters. done: 141 [Current cost: -0.689166015625]\n",
      "Iters. done: 142 [Current cost: -0.69106953125]\n",
      "Iters. done: 143 [Current cost: -0.68958720703125]\n",
      "Iters. done: 144 [Current cost: -0.692534716796875]\n",
      "Iters. done: 145 [Current cost: -0.693635888671875]\n",
      "Iters. done: 146 [Current cost: -0.699458935546875]\n",
      "Iters. done: 147 [Current cost: -0.6962591796875002]\n",
      "Iters. done: 148 [Current cost: -0.6944860351562501]\n",
      "Iters. done: 149 [Current cost: -0.690064111328125]\n",
      "Iters. done: 150 [Current cost: -0.690612451171875]\n",
      "Iters. done: 151 [Current cost: -0.692288623046875]\n",
      "Iters. done: 152 [Current cost: -0.699029345703125]\n",
      "Iters. done: 153 [Current cost: -0.6852122070312501]\n"
     ]
    }
   ],
   "source": [
    "with Session(backend=backend) as session:\n",
    "    estimator = Estimator(session=session)\n",
    "    estimator.options.default_shots = 10000\n",
    "\n",
    "    res = minimize(\n",
    "        cost_func,\n",
    "        x0,\n",
    "        args=(ansatz_isa, hamiltonian_isa, estimator),\n",
    "        method=\"cobyla\",\n",
    "    )"
   ]
  },
  {
   "cell_type": "code",
   "execution_count": 11,
   "metadata": {},
   "outputs": [
    {
     "name": "stdout",
     "output_type": "stream",
     "text": [
      " message: Optimization terminated successfully.\n",
      " success: True\n",
      "  status: 1\n",
      "     fun: -0.6852122070312501\n",
      "       x: [ 7.344e-01  5.381e+00 ...  5.039e+00  3.327e+00]\n",
      "    nfev: 153\n",
      "   maxcv: 0.0\n"
     ]
    }
   ],
   "source": [
    "print(res)"
   ]
  },
  {
   "cell_type": "code",
   "execution_count": 12,
   "metadata": {},
   "outputs": [
    {
     "data": {
      "image/png": "[encoded data removed]",
      "text/plain": [
       "<Figure size 640x480 with 1 Axes>"
      ]
     },
     "metadata": {},
     "output_type": "display_data"
    }
   ],
   "source": [
    "fig, ax = plt.subplots()\n",
    "ax.plot(range(cost_history_dict[\"iters\"]), cost_history_dict[\"cost_history\"])\n",
    "ax.set_xlabel(\"Iterations\")\n",
    "ax.set_ylabel(\"Cost\")\n",
    "plt.draw()"
   ]
  }
 ],
 "metadata": {
  "kernelspec": {
   "display_name": "qiskit-1-2",
   "language": "python",
   "name": "python3"
  },
  "language_info": {
   "codemirror_mode": {
    "name": "ipython",
    "version": 3
   },
   "file_extension": ".py",
   "mimetype": "text/x-python",
   "name": "python",
   "nbconvert_exporter": "python",
   "pygments_lexer": "ipython3",
   "version": "3.10.14"
  }
 },
 "nbformat": 4,
 "nbformat_minor": 2
}
