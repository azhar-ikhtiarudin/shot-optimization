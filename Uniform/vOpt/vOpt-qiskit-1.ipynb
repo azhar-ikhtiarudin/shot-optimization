{
 "cells": [
  {
   "cell_type": "code",
   "execution_count": 1,
   "metadata": {},
   "outputs": [],
   "source": [
    "# General imports\n",
    "import numpy as np\n",
    "\n",
    "# Pre-defined ansatz circuit and operator class for Hamiltonian\n",
    "from qiskit.circuit.library import EfficientSU2\n",
    "from qiskit.quantum_info import SparsePauliOp\n",
    "\n",
    "# SciPy minimizer routine\n",
    "from scipy.optimize import minimize\n",
    "\n",
    "# Plotting functions\n",
    "import matplotlib.pyplot as plt"
   ]
  },
  {
   "cell_type": "code",
   "execution_count": 2,
   "metadata": {},
   "outputs": [],
   "source": [
    "# runtime imports\n",
    "# from qiskit_ibm_runtime import QiskitRuntimeService, Session\n",
    "# # To run on hardware, select the backend with the fewest number of jobs in the queue\n",
    "# service = QiskitRuntimeService(channel=\"ibm_quantum\")\n",
    "# backend = service.least_busy(operational=True, simulator=False)"
   ]
  },
  {
   "cell_type": "code",
   "execution_count": 2,
   "metadata": {},
   "outputs": [],
   "source": [
    "from qiskit_ibm_runtime import QiskitRuntimeService, Session\n",
    "from qiskit_ibm_runtime import EstimatorV2 as Estimator\n",
    "from qiskit_aer import QasmSimulator, AerSimulator\n",
    "\n",
    "backend = QasmSimulator()"
   ]
  },
  {
   "cell_type": "code",
   "execution_count": 14,
   "metadata": {},
   "outputs": [
    {
     "name": "stdout",
     "output_type": "stream",
     "text": [
      "SparsePauliOp(['YZ'],\n",
      "              coeffs=[0.398+0.j])\n"
     ]
    }
   ],
   "source": [
    "# hamiltonian = SparsePauliOp.from_list(\n",
    "#     [(\"YZ\", 0.3980), (\"ZI\", -0.3980), (\"ZZ\", -0.0113), (\"XX\", 0.1810)]\n",
    "# )\n",
    "\n",
    "hamiltonian = SparsePauliOp.from_list(\n",
    "    [(\"YZ\", 0.3980)]\n",
    ")\n",
    "\n",
    "print(hamiltonian)"
   ]
  },
  {
   "cell_type": "code",
   "execution_count": 16,
   "metadata": {},
   "outputs": [
    {
     "data": {
      "image/png": "[encoded data removed]",
      "text/plain": [
       "<Figure size 872.572x200.667 with 1 Axes>"
      ]
     },
     "execution_count": 16,
     "metadata": {},
     "output_type": "execute_result"
    }
   ],
   "source": [
    "ansatz = EfficientSU2(hamiltonian.num_qubits)\n",
    "ansatz.draw()"
   ]
  },
  {
   "cell_type": "code",
   "execution_count": 17,
   "metadata": {},
   "outputs": [],
   "source": [
    "num_params = ansatz.num_parameters\n",
    "\n",
    "from qiskit.transpiler.preset_passmanagers import generate_preset_pass_manager\n",
    "\n",
    "target = backend.target\n",
    "pm = generate_preset_pass_manager(target=target, optimization_level=3)\n",
    "\n",
    "ansatz_isa = pm.run(ansatz)\n",
    "\n",
    "hamiltonian_isa = hamiltonian.apply_layout(layout=ansatz_isa.layout)"
   ]
  },
  {
   "cell_type": "code",
   "execution_count": 18,
   "metadata": {},
   "outputs": [],
   "source": [
    "cost_history_dict = {\n",
    "    \"prev_vector\": None,\n",
    "    \"iters\": 0,\n",
    "    \"cost_history\": [],\n",
    "}"
   ]
  },
  {
   "cell_type": "code",
   "execution_count": 19,
   "metadata": {},
   "outputs": [],
   "source": [
    "def cost_func(params, ansatz, hamiltonian, estimator):\n",
    "    \"\"\"Return estimate of energy from estimator\n",
    "\n",
    "    Parameters:\n",
    "        params (ndarray): Array of ansatz parameters\n",
    "        ansatz (QuantumCircuit): Parameterized ansatz circuit\n",
    "        hamiltonian (SparsePauliOp): Operator representation of Hamiltonian\n",
    "        estimator (EstimatorV2): Estimator primitive instance\n",
    "        cost_history_dict: Dictionary for storing intermediate results\n",
    "\n",
    "    Returns:\n",
    "        float: Energy estimate\n",
    "    \"\"\"\n",
    "    pub = (ansatz, [hamiltonian], [params])\n",
    "    result = estimator.run(pubs=[pub]).result()\n",
    "    energy = result[0].data.evs[0]\n",
    "\n",
    "    cost_history_dict[\"iters\"] += 1\n",
    "    cost_history_dict[\"prev_vector\"] = params\n",
    "    cost_history_dict[\"cost_history\"].append(energy)\n",
    "    print(f\"Iters. done: {cost_history_dict['iters']} [Current cost: {energy}]\")\n",
    "\n",
    "    return energy"
   ]
  },
  {
   "cell_type": "code",
   "execution_count": 20,
   "metadata": {},
   "outputs": [],
   "source": [
    "x0 = 2 * np.pi * np.random.random(num_params)"
   ]
  },
  {
   "cell_type": "code",
   "execution_count": 21,
   "metadata": {},
   "outputs": [
    {
     "name": "stderr",
     "output_type": "stream",
     "text": [
      "/home/azhar04/.local/lib/python3.10/site-packages/qiskit_ibm_runtime/session.py:157: UserWarning: Session is not supported in local testing mode or when using a simulator.\n",
      "  warnings.warn(\n",
      "/home/azhar04/.local/lib/python3.10/site-packages/qiskit_ibm_runtime/fake_provider/local_service.py:243: UserWarning: Options {'default_shots': 10000} have no effect in local testing mode.\n",
      "  warnings.warn(f\"Options {options_copy} have no effect in local testing mode.\")\n"
     ]
    },
    {
     "name": "stdout",
     "output_type": "stream",
     "text": [
      "Iters. done: 1 [Current cost: -0.15682910156250002]\n",
      "Iters. done: 2 [Current cost: -0.12437500000000001]\n",
      "Iters. done: 3 [Current cost: -0.16868359375]\n",
      "Iters. done: 4 [Current cost: -0.147306640625]\n",
      "Iters. done: 5 [Current cost: -0.154302734375]\n",
      "Iters. done: 6 [Current cost: -0.0406162109375]\n"
     ]
    },
    {
     "name": "stdout",
     "output_type": "stream",
     "text": [
      "Iters. done: 7 [Current cost: -0.0188505859375]\n",
      "Iters. done: 8 [Current cost: 0.0285673828125]\n",
      "Iters. done: 9 [Current cost: -0.160521484375]\n",
      "Iters. done: 10 [Current cost: -0.025069335937500003]\n",
      "Iters. done: 11 [Current cost: 0.054025390625]\n",
      "Iters. done: 12 [Current cost: -0.36301953125]\n",
      "Iters. done: 13 [Current cost: -0.2625478515625]\n",
      "Iters. done: 14 [Current cost: -0.10766210937500001]\n",
      "Iters. done: 15 [Current cost: -0.22348632812500002]\n",
      "Iters. done: 16 [Current cost: -0.3608818359375]\n",
      "Iters. done: 17 [Current cost: -0.078123046875]\n",
      "Iters. done: 18 [Current cost: -0.2042470703125]\n",
      "Iters. done: 19 [Current cost: -0.35330273437500004]\n",
      "Iters. done: 20 [Current cost: -0.38828320312500003]\n",
      "Iters. done: 21 [Current cost: -0.361076171875]\n",
      "Iters. done: 22 [Current cost: -0.3853681640625]\n",
      "Iters. done: 23 [Current cost: -0.371958984375]\n",
      "Iters. done: 24 [Current cost: -0.391392578125]\n",
      "Iters. done: 25 [Current cost: -0.3715703125]\n",
      "Iters. done: 26 [Current cost: -0.388671875]\n",
      "Iters. done: 27 [Current cost: -0.37545703125]\n",
      "Iters. done: 28 [Current cost: -0.389060546875]\n",
      "Iters. done: 29 [Current cost: -0.32998242187500004]\n",
      "Iters. done: 30 [Current cost: -0.37584570312500004]\n",
      "Iters. done: 31 [Current cost: -0.3752626953125]\n",
      "Iters. done: 32 [Current cost: -0.38944921875]\n",
      "Iters. done: 33 [Current cost: -0.343197265625]\n",
      "Iters. done: 34 [Current cost: -0.38633984375]\n",
      "Iters. done: 35 [Current cost: -0.34883300781250004]\n",
      "Iters. done: 36 [Current cost: -0.3877001953125]\n",
      "Iters. done: 37 [Current cost: -0.389060546875]\n",
      "Iters. done: 38 [Current cost: -0.38323046875]\n",
      "Iters. done: 39 [Current cost: -0.37953808593750005]\n",
      "Iters. done: 40 [Current cost: -0.3842021484375]\n",
      "Iters. done: 41 [Current cost: -0.3933359375]\n",
      "Iters. done: 42 [Current cost: -0.39411328125]\n",
      "Iters. done: 43 [Current cost: -0.38750585937500004]\n",
      "Iters. done: 44 [Current cost: -0.39255859375]\n",
      "Iters. done: 45 [Current cost: -0.388671875]\n",
      "Iters. done: 46 [Current cost: -0.39022656250000004]\n",
      "Iters. done: 47 [Current cost: -0.3896435546875]\n",
      "Iters. done: 48 [Current cost: -0.39372460937500003]\n",
      "Iters. done: 49 [Current cost: -0.388671875]\n",
      "Iters. done: 50 [Current cost: -0.3908095703125]\n",
      "Iters. done: 51 [Current cost: -0.39294726562500004]\n",
      "Iters. done: 52 [Current cost: -0.391392578125]\n",
      "Iters. done: 53 [Current cost: -0.39469628906250004]\n",
      "Iters. done: 54 [Current cost: -0.396833984375]\n",
      "Iters. done: 55 [Current cost: -0.39469628906250004]\n",
      "Iters. done: 56 [Current cost: -0.3970283203125]\n",
      "Iters. done: 57 [Current cost: -0.397611328125]\n",
      "Iters. done: 58 [Current cost: -0.397611328125]\n",
      "Iters. done: 59 [Current cost: -0.396833984375]\n",
      "Iters. done: 60 [Current cost: -0.39663964843750005]\n",
      "Iters. done: 61 [Current cost: -0.3970283203125]\n",
      "Iters. done: 62 [Current cost: -0.395279296875]\n",
      "Iters. done: 63 [Current cost: -0.39741699218750004]\n",
      "Iters. done: 64 [Current cost: -0.3970283203125]\n",
      "Iters. done: 65 [Current cost: -0.3978056640625]\n",
      "Iters. done: 66 [Current cost: -0.3978056640625]\n",
      "Iters. done: 67 [Current cost: -0.3962509765625]\n",
      "Iters. done: 68 [Current cost: -0.39741699218750004]\n",
      "Iters. done: 69 [Current cost: -0.3978056640625]\n",
      "Iters. done: 70 [Current cost: -0.39741699218750004]\n",
      "Iters. done: 71 [Current cost: -0.396833984375]\n",
      "Iters. done: 72 [Current cost: -0.39741699218750004]\n",
      "Iters. done: 73 [Current cost: -0.39663964843750005]\n",
      "Iters. done: 74 [Current cost: -0.3970283203125]\n",
      "Iters. done: 75 [Current cost: -0.3978056640625]\n",
      "Iters. done: 76 [Current cost: -0.398]\n",
      "Iters. done: 77 [Current cost: -0.396833984375]\n",
      "Iters. done: 78 [Current cost: -0.396833984375]\n",
      "Iters. done: 79 [Current cost: -0.39741699218750004]\n",
      "Iters. done: 80 [Current cost: -0.39663964843750005]\n",
      "Iters. done: 81 [Current cost: -0.39722265625000003]\n",
      "Iters. done: 82 [Current cost: -0.398]\n",
      "Iters. done: 83 [Current cost: -0.39741699218750004]\n",
      "Iters. done: 84 [Current cost: -0.3970283203125]\n",
      "Iters. done: 85 [Current cost: -0.39741699218750004]\n",
      "Iters. done: 86 [Current cost: -0.398]\n",
      "Iters. done: 87 [Current cost: -0.396833984375]\n",
      "Iters. done: 88 [Current cost: -0.39741699218750004]\n",
      "Iters. done: 89 [Current cost: -0.39663964843750005]\n",
      "Iters. done: 90 [Current cost: -0.39722265625000003]\n",
      "Iters. done: 91 [Current cost: -0.397611328125]\n",
      "Iters. done: 92 [Current cost: -0.397611328125]\n",
      "Iters. done: 93 [Current cost: -0.397611328125]\n",
      "Iters. done: 94 [Current cost: -0.397611328125]\n",
      "Iters. done: 95 [Current cost: -0.397611328125]\n",
      "Iters. done: 96 [Current cost: -0.3970283203125]\n",
      "Iters. done: 97 [Current cost: -0.39722265625000003]\n",
      "Iters. done: 98 [Current cost: -0.39741699218750004]\n",
      "Iters. done: 99 [Current cost: -0.39722265625000003]\n",
      "Iters. done: 100 [Current cost: -0.39741699218750004]\n",
      "Iters. done: 101 [Current cost: -0.39722265625000003]\n",
      "Iters. done: 102 [Current cost: -0.3970283203125]\n",
      "Iters. done: 103 [Current cost: -0.397611328125]\n",
      "Iters. done: 104 [Current cost: -0.397611328125]\n",
      "Iters. done: 105 [Current cost: -0.398]\n",
      "Iters. done: 106 [Current cost: -0.397611328125]\n",
      "Iters. done: 107 [Current cost: -0.39722265625000003]\n",
      "Iters. done: 108 [Current cost: -0.39722265625000003]\n",
      "Iters. done: 109 [Current cost: -0.398]\n",
      "Iters. done: 110 [Current cost: -0.3970283203125]\n",
      "Iters. done: 111 [Current cost: -0.398]\n",
      "Iters. done: 112 [Current cost: -0.39722265625000003]\n",
      "Iters. done: 113 [Current cost: -0.397611328125]\n",
      "Iters. done: 114 [Current cost: -0.39741699218750004]\n",
      "Iters. done: 115 [Current cost: -0.3978056640625]\n",
      "Iters. done: 116 [Current cost: -0.3978056640625]\n",
      "Iters. done: 117 [Current cost: -0.39741699218750004]\n",
      "Iters. done: 118 [Current cost: -0.39722265625000003]\n",
      "Iters. done: 119 [Current cost: -0.39741699218750004]\n",
      "Iters. done: 120 [Current cost: -0.3970283203125]\n",
      "Iters. done: 121 [Current cost: -0.397611328125]\n",
      "Iters. done: 122 [Current cost: -0.3978056640625]\n",
      "Iters. done: 123 [Current cost: -0.3978056640625]\n",
      "Iters. done: 124 [Current cost: -0.397611328125]\n",
      "Iters. done: 125 [Current cost: -0.39741699218750004]\n",
      "Iters. done: 126 [Current cost: -0.397611328125]\n",
      "Iters. done: 127 [Current cost: -0.397611328125]\n",
      "Iters. done: 128 [Current cost: -0.3970283203125]\n",
      "Iters. done: 129 [Current cost: -0.39663964843750005]\n",
      "Iters. done: 130 [Current cost: -0.3970283203125]\n",
      "Iters. done: 131 [Current cost: -0.398]\n",
      "Iters. done: 132 [Current cost: -0.39722265625000003]\n",
      "Iters. done: 133 [Current cost: -0.39722265625000003]\n",
      "Iters. done: 134 [Current cost: -0.397611328125]\n",
      "Iters. done: 135 [Current cost: -0.39741699218750004]\n",
      "Iters. done: 136 [Current cost: -0.396833984375]\n",
      "Iters. done: 137 [Current cost: -0.3978056640625]\n",
      "Iters. done: 138 [Current cost: -0.39722265625000003]\n",
      "Iters. done: 139 [Current cost: -0.39741699218750004]\n",
      "Iters. done: 140 [Current cost: -0.396833984375]\n",
      "Iters. done: 141 [Current cost: -0.39722265625000003]\n",
      "Iters. done: 142 [Current cost: -0.397611328125]\n",
      "Iters. done: 143 [Current cost: -0.3970283203125]\n",
      "Iters. done: 144 [Current cost: -0.39741699218750004]\n",
      "Iters. done: 145 [Current cost: -0.39741699218750004]\n",
      "Iters. done: 146 [Current cost: -0.3978056640625]\n",
      "Iters. done: 147 [Current cost: -0.3978056640625]\n",
      "Iters. done: 148 [Current cost: -0.3978056640625]\n",
      "Iters. done: 149 [Current cost: -0.3970283203125]\n",
      "Iters. done: 150 [Current cost: -0.39722265625000003]\n",
      "Iters. done: 151 [Current cost: -0.3978056640625]\n",
      "Iters. done: 152 [Current cost: -0.3970283203125]\n",
      "Iters. done: 153 [Current cost: -0.39722265625000003]\n",
      "Iters. done: 154 [Current cost: -0.397611328125]\n",
      "Iters. done: 155 [Current cost: -0.39741699218750004]\n",
      "Iters. done: 156 [Current cost: -0.3962509765625]\n"
     ]
    }
   ],
   "source": [
    "with Session(backend=backend) as session:\n",
    "    estimator = Estimator(session=session)\n",
    "    estimator.options.default_shots = 10000\n",
    "\n",
    "    res = minimize(\n",
    "        cost_func,\n",
    "        x0,\n",
    "        args=(ansatz_isa, hamiltonian_isa, estimator),\n",
    "        method=\"cobyla\",\n",
    "    )"
   ]
  },
  {
   "cell_type": "code",
   "execution_count": 22,
   "metadata": {},
   "outputs": [
    {
     "name": "stdout",
     "output_type": "stream",
     "text": [
      " message: Optimization terminated successfully.\n",
      " success: True\n",
      "  status: 1\n",
      "     fun: -0.3962509765625\n",
      "       x: [ 2.719e+00  6.244e+00 ...  5.515e+00  4.159e+00]\n",
      "    nfev: 156\n",
      "   maxcv: 0.0\n"
     ]
    }
   ],
   "source": [
    "print(res)"
   ]
  },
  {
   "cell_type": "code",
   "execution_count": 23,
   "metadata": {},
   "outputs": [
    {
     "data": {
      "image/png": "[encoded data removed]",
      "text/plain": [
       "<Figure size 640x480 with 1 Axes>"
      ]
     },
     "metadata": {},
     "output_type": "display_data"
    }
   ],
   "source": [
    "fig, ax = plt.subplots()\n",
    "ax.plot(range(cost_history_dict[\"iters\"]), cost_history_dict[\"cost_history\"])\n",
    "ax.set_xlabel(\"Iterations\")\n",
    "ax.set_ylabel(\"Cost\")\n",
    "plt.draw()"
   ]
  }
 ],
 "metadata": {
  "kernelspec": {
   "display_name": "qiskit-1-2",
   "language": "python",
   "name": "python3"
  },
  "language_info": {
   "codemirror_mode": {
    "name": "ipython",
    "version": 3
   },
   "file_extension": ".py",
   "mimetype": "text/x-python",
   "name": "python",
   "nbconvert_exporter": "python",
   "pygments_lexer": "ipython3",
   "version": "3.10.14"
  }
 },
 "nbformat": 4,
 "nbformat_minor": 2
}
